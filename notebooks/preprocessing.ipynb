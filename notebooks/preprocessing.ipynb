{
 "cells": [
  {
   "cell_type": "markdown",
   "metadata": {},
   "source": [
    "# **Preprocesado**"
   ]
  },
  {
   "cell_type": "code",
   "execution_count": 1,
   "metadata": {},
   "outputs": [
    {
     "data": {
      "image/png": "[encoded data removed]",
      "text/plain": [
       "<Figure size 500x300 with 1 Axes>"
      ]
     },
     "metadata": {},
     "output_type": "display_data"
    },
    {
     "name": "stdout",
     "output_type": "stream",
     "text": [
      "Proporción de personas con y sin stroke:\n",
      "stroke\n",
      "0    0.950211\n",
      "1    0.049789\n",
      "Name: proportion, dtype: float64\n",
      "\n",
      "Valores nulos explícitos por columna:\n",
      "gender               0\n",
      "age                  0\n",
      "hypertension         0\n",
      "heart_disease        0\n",
      "ever_married         0\n",
      "work_type            0\n",
      "Residence_type       0\n",
      "avg_glucose_level    0\n",
      "bmi                  0\n",
      "smoking_status       0\n",
      "stroke               0\n",
      "dtype: int64\n",
      "Total de valores nulos explícitos: 0\n",
      "Valores únicos de 'gender': [0 1]\n",
      "Archivo exportado a ../data/processed/preprocessing.csv\n"
     ]
    }
   ],
   "source": [
    "# ==========================================================\n",
    "# PREPROCESAMIENTO SIN DIVISIÓN TRAIN/TEST NI SMOTE\n",
    "# ==========================================================\n",
    "\n",
    "# PASO 1: Cargar librerías necesarias\n",
    "import pandas as pd\n",
    "import numpy as np\n",
    "from sklearn.preprocessing import StandardScaler\n",
    "import matplotlib.pyplot as plt\n",
    "import seaborn as sns\n",
    "\n",
    "# PASO 2: Cargar el dataset \n",
    "df = pd.read_csv('../data/raw/stroke_dataset.csv')\n",
    "\n",
    "# PASO 3: Visualizar y analizar la variable objetivo (stroke)\n",
    "plt.figure(figsize=(5,3))\n",
    "sns.countplot(x='stroke', data=df)\n",
    "plt.title('¿Cuántas personas tuvieron un stroke?')\n",
    "plt.show()\n",
    "print('Proporción de personas con y sin stroke:')\n",
    "print(df['stroke'].value_counts(normalize=True))\n",
    "\n",
    "# PASO 4: Comprobar si hay datos faltantes (nulos)\n",
    "print(\"\\nValores nulos explícitos por columna:\")\n",
    "print(df.isnull().sum())\n",
    "print(f\"Total de valores nulos explícitos: {df.isnull().sum().sum()}\")\n",
    "\n",
    "# PASO 5: Transformar variables categóricas a números\n",
    "df['gender'] = df['gender'].map({'Male': 0, 'Female': 1, 'Other': 2})\n",
    "df['ever_married'] = df['ever_married'].map({'No': 0, 'Yes': 1})\n",
    "df['Residence_type'] = df['Residence_type'].map({'Urban': 0, 'Rural': 1})\n",
    "df = pd.get_dummies(df, columns=['work_type', 'smoking_status'], drop_first=True)\n",
    "print(\"Valores únicos de 'gender':\", df['gender'].unique())\n",
    "\n",
    "# PASO 6: Aplicar logaritmo a avg_glucose_level para reducir el efecto de valores extremos\n",
    "df['avg_glucose_level_log'] = np.log1p(df['avg_glucose_level'])\n",
    "\n",
    "# PASO 7: Definir columnas numéricas y categóricas finales\n",
    "num_cols = ['age', 'avg_glucose_level_log', 'bmi']\n",
    "bin_cat_cols = ['hypertension', 'heart_disease', 'gender', 'ever_married', 'Residence_type']\n",
    "cat_cols = [col for col in df.columns if col.startswith('work_type_') or col.startswith('smoking_status_')]\n",
    "\n",
    "# PASO 8: Concatenar variables numéricas y categóricas\n",
    "X = df[num_cols + bin_cat_cols + cat_cols]\n",
    "y = df['stroke']\n",
    "\n",
    "# PASO 9: Estandarizar SOLO las columnas numéricas continuas en todo el dataset\n",
    "scaler = StandardScaler()\n",
    "X_std = X.copy()\n",
    "X_std[num_cols] = scaler.fit_transform(X[num_cols])\n",
    "\n",
    "# Concatenar la variable objetivo para exportar\n",
    "df_final = X_std.copy()\n",
    "df_final['stroke'] = y\n",
    "\n",
    "# PASO 10: Exportar el archivo a la carpeta processed\n",
    "df_final.to_csv('../data/processed/preprocessing.csv', index=False)\n",
    "print(\"Archivo exportado a ../data/processed/preprocessing.csv\")"
   ]
  }
 ],
 "metadata": {
  "kernelspec": {
   "display_name": "venv",
   "language": "python",
   "name": "python3"
  },
  "language_info": {
   "codemirror_mode": {
    "name": "ipython",
    "version": 3
   },
   "file_extension": ".py",
   "mimetype": "text/x-python",
   "name": "python",
   "nbconvert_exporter": "python",
   "pygments_lexer": "ipython3",
   "version": "3.13.2"
  }
 },
 "nbformat": 4,
 "nbformat_minor": 2
}
